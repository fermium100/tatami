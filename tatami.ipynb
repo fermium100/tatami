{
 "cells": [
  {
   "cell_type": "code",
   "execution_count": 1,
   "metadata": {},
   "outputs": [],
   "source": [
    "import numpy as np\n",
    "import matplotlib\n",
    "import matplotlib.pyplot as plt\n",
    "import itertools\n",
    "\n",
    "from amplify import BinaryPoly, gen_symbols, sum_poly\n",
    "from amplify.client import FixstarsClient\n",
    "from amplify.constraint import equal_to, penalty, less_equal\n",
    "from amplify import Solver\n",
    "from amplify.client import FixstarsClient\n",
    "from amplify import decode_solution\n",
    "\n",
    "client = FixstarsClient()\n",
    "#client.token = \"DELETED TOKEN\"\n",
    "client.parameters.timeout = 1000\n",
    "\n",
    "def show_tatami(row_size, col_size, h_tatami, v_tatami):\n",
    "    fig = plt.figure()\n",
    "    ax = fig.add_subplot(111)\n",
    "    ax.set_ylim([0,row_size])\n",
    "    ax.set_xlim([0,col_size])\n",
    "    ax.set_aspect('equal')\n",
    "    ax.set_xticks(range(col_size+1))\n",
    "    ax.set_yticks(range(row_size+1))\n",
    "    ax.invert_yaxis()\n",
    "    ax.xaxis.set_ticks_position('top')\n",
    "    \n",
    "    margin = 0.05\n",
    "    \n",
    "    for i in range(row_size):\n",
    "        for j in range(col_size-1):\n",
    "            if h_tatami[i][j] == 1.0:\n",
    "                rect = plt.Rectangle((j+margin,i+margin),2-2*margin,1-2*margin,fc=\"#aa0000\")\n",
    "                ax.add_patch(rect)\n",
    "    for i in range(row_size-1):\n",
    "        for j in range(col_size):\n",
    "            if v_tatami[i][j] == 1.0:\n",
    "                rect = plt.Rectangle((j+margin,i+margin),1-2*margin,2-2*margin,fc=\"#000088\")\n",
    "                ax.add_patch(rect) \n",
    "    plt.show()"
   ]
  },
  {
   "cell_type": "markdown",
   "metadata": {},
   "source": [
    "# 畳敷き詰めマシン\n",
    "\n",
    "与えられた長方形の領域を畳で埋め尽くす。"
   ]
  },
  {
   "cell_type": "code",
   "execution_count": 2,
   "metadata": {},
   "outputs": [],
   "source": [
    "row_size = 3   # 縦の長さ\n",
    "col_size = 4   # 横の長さ"
   ]
  },
  {
   "cell_type": "code",
   "execution_count": 3,
   "metadata": {},
   "outputs": [],
   "source": [
    "h_tatami = np.zeros((row_size, col_size-1))\n",
    "v_tatami = np.zeros((row_size-1, col_size))\n",
    "\n",
    "h_tatami_len = row_size*(col_size-1)\n",
    "q_h = gen_symbols(BinaryPoly, 0, (row_size, col_size-1))\n",
    "q_v = gen_symbols(BinaryPoly, h_tatami_len, (row_size-1, col_size))"
   ]
  },
  {
   "cell_type": "code",
   "execution_count": 4,
   "metadata": {},
   "outputs": [],
   "source": [
    "def covering_tatami(row_size, col_size, q_h, q_v, i, j):\n",
    "    tatami_ls = []\n",
    "    if j != 0:\n",
    "        tatami_ls.append(q_h[i][j-1])\n",
    "    if j != col_size-1:\n",
    "        tatami_ls.append(q_h[i][j])\n",
    "    if i != 0:\n",
    "        tatami_ls.append(q_v[i-1][j])\n",
    "    if i != row_size-1:\n",
    "        tatami_ls.append(q_v[i][j])\n",
    "    return tatami_ls\n",
    "\n",
    "# 各マスで畳が重ならないための制約\n",
    "overlap_constraints = itertools.chain.from_iterable([\n",
    "    [\n",
    "        less_equal(sum_poly(covering_tatami(row_size, col_size, q_h, q_v, i, j)), 1)\n",
    "        for i in range(row_size)] for j in range(col_size)\n",
    "    ]\n",
    ")\n",
    "\n",
    "constraints = sum(overlap_constraints)"
   ]
  },
  {
   "cell_type": "code",
   "execution_count": 5,
   "metadata": {},
   "outputs": [],
   "source": [
    "cost_h = sum_poly([sum_poly([q_h[i][j] for j in range(col_size-1)]) for i in range(row_size)])\n",
    "cost_v = sum_poly([sum_poly([q_v[i][j] for j in range(col_size)]) for i in range(row_size-1)])\n",
    "cost = cost_h + cost_v\n",
    "constraints *= row_size*col_size   # 制約条件の強さを設定\n",
    "model = - cost + constraints"
   ]
  },
  {
   "cell_type": "code",
   "execution_count": 6,
   "metadata": {},
   "outputs": [],
   "source": [
    "solver = Solver(client)\n",
    "\n",
    "result = solver.solve(model)\n",
    "if len(result) == 0:\n",
    "    raise RuntimeError(\"Any one of constraints is not satisfied.\")\n",
    "\n",
    "energy, values = result[0].energy, result[0].values"
   ]
  },
  {
   "cell_type": "code",
   "execution_count": 7,
   "metadata": {},
   "outputs": [],
   "source": [
    "q_h_values = decode_solution(q_h, values, 1)\n",
    "q_v_values = decode_solution(q_v, values, 1)"
   ]
  },
  {
   "cell_type": "code",
   "execution_count": 8,
   "metadata": {},
   "outputs": [
    {
     "data": {
      "image/png": "[encoded data removed]",
      "text/plain": [
       "<Figure size 432x288 with 1 Axes>"
      ]
     },
     "metadata": {
      "needs_background": "light"
     },
     "output_type": "display_data"
    }
   ],
   "source": [
    "show_tatami(row_size, col_size, q_h_values, q_v_values)"
   ]
  },
  {
   "cell_type": "markdown",
   "metadata": {},
   "source": [
    "# 最小畳配置問題ソルバー\n",
    "\n",
    "出来るだけ少ない枚数でそれ以上畳を置けなくするという問題を考える。\\\n",
    "以下に3x3と4x4の場合の解を示す。\\\n",
    "（同じ番号は同じ畳であることを、■は畳が置かれていないマスを意味する）\n",
    "\n",
    "3x3の例：\\\n",
    "①①■\\\n",
    "■②②\\\n",
    "③③■\n",
    "\n",
    "4x4の例：\\\n",
    "①①■②\\\n",
    "■③③②\\\n",
    "④⑤⑤■\\\n",
    "④■⑥⑥"
   ]
  },
  {
   "cell_type": "code",
   "execution_count": 9,
   "metadata": {},
   "outputs": [],
   "source": [
    "row_size = 10   # 縦の長さ\n",
    "col_size = 10   # 横の長さ"
   ]
  },
  {
   "cell_type": "code",
   "execution_count": 10,
   "metadata": {},
   "outputs": [],
   "source": [
    "h_tatami = np.zeros((row_size, col_size-1))\n",
    "v_tatami = np.zeros((row_size-1, col_size))\n",
    "\n",
    "h_tatami_len = row_size*(col_size-1)\n",
    "q_h = gen_symbols(BinaryPoly, 0, (row_size, col_size-1))\n",
    "q_v = gen_symbols(BinaryPoly, h_tatami_len, (row_size-1, col_size))"
   ]
  },
  {
   "cell_type": "code",
   "execution_count": 11,
   "metadata": {},
   "outputs": [],
   "source": [
    "def covering_tatami(row_size, col_size, q_h, q_v, i, j):\n",
    "    tatami_ls = []\n",
    "    if j != 0:\n",
    "        tatami_ls.append(q_h[i][j-1])\n",
    "    if j != col_size-1:\n",
    "        tatami_ls.append(q_h[i][j])\n",
    "    if i != 0:\n",
    "        tatami_ls.append(q_v[i-1][j])\n",
    "    if i != row_size-1:\n",
    "        tatami_ls.append(q_v[i][j])\n",
    "    return tatami_ls\n",
    "\n",
    "# 各マスで畳が重ならないための制約\n",
    "overlap_constraints = itertools.chain.from_iterable([\n",
    "    [\n",
    "        -sum_poly(covering_tatami(row_size, col_size, q_h, q_v, i, j))\n",
    "                *(1-sum_poly(covering_tatami(row_size, col_size, q_h, q_v, i, j)))\n",
    "        for i in range(row_size)] for j in range(col_size)\n",
    "    ]\n",
    ")\n",
    "\n",
    "# 空きマスが隣り合わないための制約\n",
    "nomoretatami_h_constraints = itertools.chain.from_iterable([\n",
    "    [\n",
    "        (1-(sum_poly(covering_tatami(row_size, col_size, q_h, q_v, i, j))\n",
    "                +(sum_poly(covering_tatami(row_size, col_size, q_h, q_v, i, j+1)))\n",
    "                -q_h[i][j]))\n",
    "            *(2-(sum_poly(covering_tatami(row_size, col_size, q_h, q_v, i, j))\n",
    "                +(sum_poly(covering_tatami(row_size, col_size, q_h, q_v, i, j+1)))\n",
    "                -q_h[i][j]))\n",
    "        for i in range(row_size)] for j in range(col_size-1)\n",
    "    ]\n",
    ")\n",
    "nomoretatami_v_constraints = itertools.chain.from_iterable([\n",
    "    [\n",
    "        (1-(sum_poly(covering_tatami(row_size, col_size, q_h, q_v, i, j))\n",
    "                          +(sum_poly(covering_tatami(row_size, col_size, q_h, q_v, i+1, j)))\n",
    "                          -q_v[i][j]))\n",
    "            *(2-(sum_poly(covering_tatami(row_size, col_size, q_h, q_v, i, j))\n",
    "                          +(sum_poly(covering_tatami(row_size, col_size, q_h, q_v, i+1, j)))\n",
    "                          -q_v[i][j]))\n",
    "        for i in range(row_size-1)] for j in range(col_size)\n",
    "    ]\n",
    ")\n",
    "constraints = sum(overlap_constraints) + sum(nomoretatami_h_constraints) + sum(nomoretatami_v_constraints)\n",
    "\n",
    "cost_h = sum_poly([sum_poly([q_h[i][j] for j in range(col_size-1)]) for i in range(row_size)])\n",
    "cost_v = sum_poly([sum_poly([q_v[i][j] for j in range(col_size)]) for i in range(row_size-1)])\n",
    "cost = cost_h + cost_v\n",
    "\n",
    "constraints *= 1   # 制約条件の強さを設定\n",
    "model = cost + constraints"
   ]
  },
  {
   "cell_type": "code",
   "execution_count": 12,
   "metadata": {},
   "outputs": [],
   "source": [
    "client.parameters.timeout = 5000  # タイムアウト5秒\n",
    "\n",
    "solver = Solver(client)"
   ]
  },
  {
   "cell_type": "code",
   "execution_count": 13,
   "metadata": {},
   "outputs": [],
   "source": [
    "result = solver.solve(model)\n",
    "if len(result) == 0:\n",
    "    raise RuntimeError(\"Any one of constraints is not satisfied.\")\n",
    "\n",
    "energy, values = result[0].energy, result[0].values"
   ]
  },
  {
   "cell_type": "code",
   "execution_count": 14,
   "metadata": {},
   "outputs": [],
   "source": [
    "q_h_values = decode_solution(q_h, values, 1)\n",
    "q_v_values = decode_solution(q_v, values, 1)"
   ]
  },
  {
   "cell_type": "code",
   "execution_count": 15,
   "metadata": {},
   "outputs": [
    {
     "name": "stdout",
     "output_type": "stream",
     "text": [
      "畳の枚数 34\n"
     ]
    },
    {
     "data": {
      "image/png": "[encoded data removed]",
      "text/plain": [
       "<Figure size 432x288 with 1 Axes>"
      ]
     },
     "metadata": {
      "needs_background": "light"
     },
     "output_type": "display_data"
    }
   ],
   "source": [
    "print(\"畳の枚数\", int(energy))\n",
    "show_tatami(row_size, col_size, q_h_values, q_v_values)"
   ]
  },
  {
   "cell_type": "code",
   "execution_count": null,
   "metadata": {},
   "outputs": [],
   "source": []
  }
 ],
 "metadata": {
  "kernelspec": {
   "display_name": "Python 3",
   "language": "python",
   "name": "python3"
  },
  "language_info": {
   "codemirror_mode": {
    "name": "ipython",
    "version": 3
   },
   "file_extension": ".py",
   "mimetype": "text/x-python",
   "name": "python",
   "nbconvert_exporter": "python",
   "pygments_lexer": "ipython3",
   "version": "3.8.3"
  }
 },
 "nbformat": 4,
 "nbformat_minor": 4
}
